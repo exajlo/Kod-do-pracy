{
 "cells": [
  {
   "cell_type": "code",
   "execution_count": 18,
   "metadata": {},
   "outputs": [],
   "source": [
    "from selenium import webdriver\n",
    "from selenium.webdriver.common.by import By\n",
    "from selenium.webdriver.chrome.service import Service\n",
    "from selenium import webdriver\n",
    "from selenium.webdriver.common.by import By\n",
    "from selenium.webdriver.chrome.service import Service\n",
    "from selenium.webdriver.chrome.options import Options\n",
    "from selenium.webdriver.support.ui import WebDriverWait\n",
    "from selenium.webdriver.support import expected_conditions as EC\n",
    "\n",
    "import time\n",
    "import bs4\n",
    "import pandas as pd\n",
    "\n",
    "chrome_options = Options()\n",
    "\n",
    "chrome_options.add_argument(\"user-data-dir=C:\\\\Users\\\\exaylo\\\\AppData\\\\Local\\\\Google\\\\Chrome\\\\User Data\\\\Default\")\n",
    "user_agent = \"Mozilla/5.0 (Windows NT 10.0; Win64; x64) AppleWebKit/537.36 (KHTML, like Gecko) Chrome/129.0.0.0 Safari/537.36\"\n",
    "chrome_options.add_argument(f\"user-agent={user_agent}\")\n",
    "driver = webdriver.Chrome(options=chrome_options)\n",
    "\n",
    "\n",
    "driver.get(\"https://escharts.com/games/csgo\")   \n",
    "time.sleep(10)\n",
    "page = driver.page_source\n",
    "soup = bs4.BeautifulSoup(page, 'html.parser')\n",
    "all_time_peak = soup.find('div', string = lambda t : t and 'All-time Peak Viewers:' in t ).parent.parent\n",
    "\n",
    "charts = all_time_peak.find('tbody')\n",
    "data =[]\n",
    "for rok in charts.find_all('tr'):\n",
    "    rok.find_all('span')\n",
    "    date = rok.find_all('div')[0].text.strip()\n",
    "    liczba = rok.find_all('div')[2].text.strip()\n",
    "    div_element = rok.find('div', class_='relative text-xs text-secondary text-opacity-75 after-dotted')\n",
    "    tippy_content = div_element['data-tippy-content']\n",
    "\n",
    "    decoded_html = bs4.BeautifulSoup(tippy_content, 'html.parser')\n",
    "    tournaments = decoded_html.find_all('a')\n",
    "    for tournament in tournaments:\n",
    "        name = tournament.find('span', class_='mr-3').text.strip()  # Nazwa turnieju\n",
    "        viewers = tournament.find('span', class_='text-sm text-default').text.strip()  # Liczba widzów\n",
    "        data.append([date,liczba,name,viewers,])\n",
    "df = pd.DataFrame(data, columns=['date', 'liczba','name','viewers'])\n",
    "\n",
    "df.to_csv('lata.csv', index=False)\n",
    "driver.quit()"
   ]
  }
 ],
 "metadata": {
  "kernelspec": {
   "display_name": "Python 3",
   "language": "python",
   "name": "python3"
  },
  "language_info": {
   "codemirror_mode": {
    "name": "ipython",
    "version": 3
   },
   "file_extension": ".py",
   "mimetype": "text/x-python",
   "name": "python",
   "nbconvert_exporter": "python",
   "pygments_lexer": "ipython3",
   "version": "3.12.1"
  }
 },
 "nbformat": 4,
 "nbformat_minor": 2
}
