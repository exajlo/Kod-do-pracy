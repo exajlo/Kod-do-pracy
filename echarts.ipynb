{
 "cells": [
  {
   "cell_type": "code",
   "execution_count": 1,
   "metadata": {},
   "outputs": [],
   "source": [
    "\n",
    "from selenium import webdriver\n",
    "from selenium.webdriver.common.by import By\n",
    "from selenium.webdriver.chrome.service import Service\n",
    "from selenium import webdriver\n",
    "from selenium.webdriver.common.by import By\n",
    "from selenium.webdriver.chrome.service import Service\n",
    "from selenium.webdriver.chrome.options import Options\n",
    "from selenium.webdriver.support.ui import WebDriverWait\n",
    "from selenium.webdriver.support import expected_conditions as EC\n",
    "\n",
    "import time\n",
    "import bs4\n",
    "import pandas as pd\n",
    "\n",
    "chrome_options = Options()\n",
    "\n",
    "chrome_options.add_argument(\"user-data-dir=C:\\\\Users\\\\exaylo\\\\AppData\\\\Local\\\\Google\\\\Chrome\\\\User Data\\\\Default\")\n",
    "user_agent = \"Mozilla/5.0 (Windows NT 10.0; Win64; x64) AppleWebKit/537.36 (KHTML, like Gecko) Chrome/129.0.0.0 Safari/537.36\"\n",
    "chrome_options.add_argument(f\"user-agent={user_agent}\")\n",
    "driver = webdriver.Chrome(options=chrome_options)\n",
    "\n",
    "\n",
    "driver.get(\"https://escharts.com/tournaments/csgo/iem-cologne-2024\")   \n",
    "time.sleep(5)\n",
    "page = driver.page_source\n",
    "soup = bs4.BeautifulSoup(page, 'html.parser')\n",
    "data =[]\n",
    "dane = soup.find('div',class_='max-w-full overflow-x-auto')\n",
    "for mecz in dane.find_all('div', class_='relative flex items-center justify-between z-2'):\n",
    "    vs =''\n",
    "    for team in mecz.find_all('span', class_='text-sm font-bold'):\n",
    "        vs +=team.text + ' vs '\n",
    "    playoff_finals = mecz.find('div', class_='flex items-center text-xs text-secondary whitespace-nowrap max-w-max').text.strip()\n",
    "    liczba_widzow = mecz.find('div', class_='flex flex-row-reverse items-center justify-between mb-2 whitespace-nowrap').text.strip()\n",
    "    data.append([vs.rstrip(' vs '),playoff_finals,liczba_widzow])\n",
    "df = pd.DataFrame(data,columns=['Mecz','Etap Turnieju','Liczba Widzów'])\n",
    "\n",
    "df.to_csv('cologne2024.csv', index=False)\n",
    "driver.quit()"
   ]
  }
 ],
 "metadata": {
  "kernelspec": {
   "display_name": "Python 3",
   "language": "python",
   "name": "python3"
  },
  "language_info": {
   "codemirror_mode": {
    "name": "ipython",
    "version": 3
   },
   "file_extension": ".py",
   "mimetype": "text/x-python",
   "name": "python",
   "nbconvert_exporter": "python",
   "pygments_lexer": "ipython3",
   "version": "3.12.1"
  }
 },
 "nbformat": 4,
 "nbformat_minor": 2
}
