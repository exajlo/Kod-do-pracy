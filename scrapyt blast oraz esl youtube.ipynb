{
 "cells": [
  {
   "cell_type": "code",
   "execution_count": 1,
   "metadata": {},
   "outputs": [],
   "source": [
    "from selenium import webdriver\n",
    "from selenium.webdriver.common.by import By\n",
    "from selenium.webdriver.chrome.service import Service\n",
    "from selenium import webdriver\n",
    "from selenium.webdriver.common.by import By\n",
    "from selenium.webdriver.chrome.service import Service\n",
    "from selenium.webdriver.chrome.options import Options\n",
    "from selenium.webdriver.support.ui import WebDriverWait\n",
    "from selenium.webdriver.support import expected_conditions as EC\n",
    "\n",
    "import time\n",
    "import bs4\n",
    "import pandas as pd\n",
    "\n",
    "chrome_options = Options()\n",
    "\n",
    "chrome_options.add_argument(\"user-data-dir=C:\\\\Users\\\\exaylo\\\\AppData\\\\Local\\\\Google\\\\Chrome\\\\User Data\\\\Default\")\n",
    "user_agent = \"Mozilla/5.0 (Windows NT 10.0; Win64; x64) AppleWebKit/537.36 (KHTML, like Gecko) Chrome/129.0.0.0 Safari/537.36\"\n",
    "chrome_options.add_argument(f\"user-agent={user_agent}\")\n",
    "driver = webdriver.Chrome(options=chrome_options)\n",
    "driver.get(\"https://www.youtube.com/@BLASTPremier/streams\")    #https://www.youtube.com/@ESLCS/streams\n",
    "time.sleep(5)\n",
    "page = driver.page_source\n",
    "soup = bs4.BeautifulSoup(page, 'html.parser')\n",
    "dane_lista =[]\n",
    "for mecz in soup.find_all('div',id ='meta',class_ ='style-scope ytd-rich-grid-media')[:5]:\n",
    "    tytul = mecz.find( id ='video-title').text\n",
    "    link = mecz.find( id ='video-title').parent['href']\n",
    "    dane = (mecz.find_all('span',class_='inline-metadata-item style-scope ytd-video-meta-block'))\n",
    "    wyswietlenia = dane[0].text.replace('\\xa0','')\n",
    "    odnosnik  ='youtube.com'+link\n",
    "    dane_lista.append([tytul,wyswietlenia,odnosnik])\n",
    "df = pd.DataFrame(dane_lista,columns=['Title','Views','Link'])\n",
    "df.to_csv('DaneYtblast.csv',index=False)  \n",
    "#df.to_csv('DaneYtesl.csv',index=False) \n",
    "driver.quit()"
   ]
  }
 ],
 "metadata": {
  "kernelspec": {
   "display_name": "Python 3",
   "language": "python",
   "name": "python3"
  },
  "language_info": {
   "codemirror_mode": {
    "name": "ipython",
    "version": 3
   },
   "file_extension": ".py",
   "mimetype": "text/x-python",
   "name": "python",
   "nbconvert_exporter": "python",
   "pygments_lexer": "ipython3",
   "version": "3.12.1"
  }
 },
 "nbformat": 4,
 "nbformat_minor": 2
}
