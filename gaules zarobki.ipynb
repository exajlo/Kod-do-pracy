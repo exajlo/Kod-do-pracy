{
 "cells": [
  {
   "cell_type": "code",
   "execution_count": 1,
   "metadata": {},
   "outputs": [],
   "source": [
    "\n",
    "from selenium import webdriver\n",
    "from selenium.webdriver.common.by import By\n",
    "from selenium.webdriver.chrome.service import Service\n",
    "from selenium import webdriver\n",
    "from selenium.webdriver.common.by import By\n",
    "from selenium.webdriver.chrome.service import Service\n",
    "from selenium.webdriver.chrome.options import Options\n",
    "from selenium.webdriver.support.ui import WebDriverWait\n",
    "from selenium.webdriver.support import expected_conditions as EC\n",
    "\n",
    "import time\n",
    "import bs4\n",
    "import pandas as pd\n",
    "\n",
    "chrome_options = Options()\n",
    "\n",
    "chrome_options.add_argument(\"user-data-dir=C:\\\\Users\\\\exaylo\\\\AppData\\\\Local\\\\Google\\\\Chrome\\\\User Data\\\\Default\")\n",
    "user_agent = \"Mozilla/5.0 (Windows NT 10.0; Win64; x64) AppleWebKit/537.36 (KHTML, like Gecko) Chrome/129.0.0.0 Safari/537.36\"\n",
    "chrome_options.add_argument(f\"user-agent={user_agent}\")\n",
    "driver = webdriver.Chrome(options=chrome_options)\n",
    "\n",
    "\n",
    "driver.get(\"https://twitchtracker.com/gaules/subscribers\")   \n",
    "time.sleep(5)\n",
    "page = driver.page_source\n",
    "soup = bs4.BeautifulSoup(page, 'html.parser')\n",
    "tabela = soup.find('div',class_='table-responsive')\n",
    "dane = tabela.find('tbody')\n",
    "data_list   =[]\n",
    "for x in dane.find_all('tr')[1:]: \n",
    "    miesiac = x.find('td',class_='sorting_1').text\n",
    "    prime = x.find('span',class_='sub-prime').text\n",
    "    tier1 = x.find('span',class_='sub-tier1').text \n",
    "    tier2 = x.find('span',class_='sub-tier2').text\n",
    "    tier3 = x.find('span',class_='sub-tier3').text\n",
    "    data_list.append([miesiac,prime,tier1,tier2,tier3])\n",
    "df = pd.DataFrame(data_list,columns=['miesiac','prime','tier1','tier2','tier3'])\n",
    "df.to_csv('gaules.csv',index=False)\n",
    "driver.quit()"
   ]
  }
 ],
 "metadata": {
  "kernelspec": {
   "display_name": "Python 3",
   "language": "python",
   "name": "python3"
  },
  "language_info": {
   "codemirror_mode": {
    "name": "ipython",
    "version": 3
   },
   "file_extension": ".py",
   "mimetype": "text/x-python",
   "name": "python",
   "nbconvert_exporter": "python",
   "pygments_lexer": "ipython3",
   "version": "3.12.1"
  }
 },
 "nbformat": 4,
 "nbformat_minor": 2
}
