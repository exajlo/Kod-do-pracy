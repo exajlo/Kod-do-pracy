{
 "cells": [
  {
   "cell_type": "code",
   "execution_count": 1,
   "metadata": {},
   "outputs": [],
   "source": [
    "\n",
    "from selenium import webdriver\n",
    "from selenium.webdriver.common.by import By\n",
    "from selenium.webdriver.chrome.service import Service\n",
    "from selenium import webdriver\n",
    "from selenium.webdriver.common.by import By\n",
    "from selenium.webdriver.chrome.service import Service\n",
    "from selenium.webdriver.chrome.options import Options\n",
    "from selenium.webdriver.support.ui import WebDriverWait\n",
    "from selenium.webdriver.support import expected_conditions as EC\n",
    "\n",
    "import time\n",
    "import bs4\n",
    "import pandas as pd\n",
    "\n",
    "chrome_options = Options()\n",
    "\n",
    "chrome_options.add_argument(\"user-data-dir=C:\\\\Users\\\\exaylo\\\\AppData\\\\Local\\\\Google\\\\Chrome\\\\User Data\\\\Default\")\n",
    "user_agent = \"Mozilla/5.0 (Windows NT 10.0; Win64; x64) AppleWebKit/537.36 (KHTML, like Gecko) Chrome/129.0.0.0 Safari/537.36\"\n",
    "chrome_options.add_argument(f\"user-agent={user_agent}\")\n",
    "driver = webdriver.Chrome(options=chrome_options)\n",
    "\n",
    "\n",
    "driver.get(\"https://csgoskins.gg/items/m4a4-howl/stattrak-factory-new\")   \n",
    "time.sleep(5)\n",
    "page = driver.page_source\n",
    "soup = bs4.BeautifulSoup(page, 'html.parser')\n",
    "dane = soup.find('div',class_='order-[24]').find('div',class_='shadow-md bg-gray-800 rounded mt-4')\n",
    "dane_lista =[]\n",
    "for row in dane.find_all('div',class_='flex px-4 py-2'):\n",
    "    cecha= row.find('div',class_='flex-none text-gray-400 pr-2').text.strip()\n",
    "    val = row.find('div',class_='flex-grow text-right').text.strip()\n",
    "    dane_lista.append([cecha,val])\n",
    "df = pd.DataFrame(dane_lista,columns=['cecha','val'])\n",
    "df.to_csv('m4a4-howl.csv')\n",
    "driver.quit()"
   ]
  },
  {
   "cell_type": "code",
   "execution_count": 8,
   "metadata": {},
   "outputs": [],
   "source": []
  }
 ],
 "metadata": {
  "kernelspec": {
   "display_name": "Python 3",
   "language": "python",
   "name": "python3"
  },
  "language_info": {
   "codemirror_mode": {
    "name": "ipython",
    "version": 3
   },
   "file_extension": ".py",
   "mimetype": "text/x-python",
   "name": "python",
   "nbconvert_exporter": "python",
   "pygments_lexer": "ipython3",
   "version": "3.12.1"
  }
 },
 "nbformat": 4,
 "nbformat_minor": 2
}
