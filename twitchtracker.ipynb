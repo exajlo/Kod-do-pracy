{
 "cells": [
  {
   "cell_type": "code",
   "execution_count": 1,
   "metadata": {},
   "outputs": [],
   "source": [
    "\n",
    "from selenium import webdriver\n",
    "from selenium.webdriver.common.by import By\n",
    "from selenium.webdriver.chrome.service import Service\n",
    "from selenium import webdriver\n",
    "from selenium.webdriver.common.by import By\n",
    "from selenium.webdriver.chrome.service import Service\n",
    "from selenium.webdriver.chrome.options import Options\n",
    "from selenium.webdriver.support.ui import WebDriverWait\n",
    "from selenium.webdriver.support import expected_conditions as EC\n",
    "\n",
    "import time\n",
    "import bs4\n",
    "import pandas as pd\n",
    "\n",
    "chrome_options = Options()\n",
    "\n",
    "chrome_options.add_argument(\"user-data-dir=C:\\\\Users\\\\exaylo\\\\AppData\\\\Local\\\\Google\\\\Chrome\\\\User Data\\\\Default\")\n",
    "user_agent = \"Mozilla/5.0 (Windows NT 10.0; Win64; x64) AppleWebKit/537.36 (KHTML, like Gecko) Chrome/129.0.0.0 Safari/537.36\"\n",
    "chrome_options.add_argument(f\"user-agent={user_agent}\")\n",
    "driver = webdriver.Chrome(options=chrome_options)\n",
    "\n",
    "\n",
    "driver.get(\"https://twitchtracker.com/games\")   \n",
    "time.sleep(5)\n",
    "page = driver.page_source\n",
    "soup = bs4.BeautifulSoup(page, 'html.parser')\n",
    "dane = soup.find('div',class_='container ranked-list')\n",
    "data_list=[]\n",
    "for x in dane.find_all('div',class_='ranked-item'):\n",
    "    lp = x.find('div',class_='ri-position hidden-xxs').text.replace('#','')\n",
    "    nazwa = x.find('div',class_='ri-name').text.strip()\n",
    "    views = x.find('div',class_='ri-value').text.strip()\n",
    "    data_list.append([lp,nazwa,views])\n",
    "df = pd.DataFrame(data_list,columns=['lp','nazwa','views'])\n",
    "df.to_csv('twitchtracker.csv',index=False)\n",
    "driver.quit()"
   ]
  }
 ],
 "metadata": {
  "kernelspec": {
   "display_name": "Python 3",
   "language": "python",
   "name": "python3"
  },
  "language_info": {
   "codemirror_mode": {
    "name": "ipython",
    "version": 3
   },
   "file_extension": ".py",
   "mimetype": "text/x-python",
   "name": "python",
   "nbconvert_exporter": "python",
   "pygments_lexer": "ipython3",
   "version": "3.12.1"
  }
 },
 "nbformat": 4,
 "nbformat_minor": 2
}
